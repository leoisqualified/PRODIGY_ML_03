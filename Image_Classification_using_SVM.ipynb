{
  "nbformat": 4,
  "nbformat_minor": 0,
  "metadata": {
    "colab": {
      "provenance": [],
      "gpuType": "T4"
    },
    "kernelspec": {
      "name": "python3",
      "display_name": "Python 3"
    },
    "language_info": {
      "name": "python"
    }
  },
  "cells": [
    {
      "cell_type": "code",
      "execution_count": null,
      "metadata": {
        "id": "wbY9iZsw5aKN",
        "colab": {
          "base_uri": "https://localhost:8080/",
          "height": 53
        },
        "outputId": "26da9df1-99d4-493d-8fa4-e62ec4d900ee"
      },
      "outputs": [
        {
          "output_type": "execute_result",
          "data": {
            "text/plain": [
              "'\\nIn this notebook, we are going to predict images using Support Vector Machines (SVM) as to whether they are cats or dogs.\\nWe will begin with importing the dataset and then training the SVM model later we will fine-tune the model and then test the model.\\n'"
            ],
            "application/vnd.google.colaboratory.intrinsic+json": {
              "type": "string"
            }
          },
          "metadata": {},
          "execution_count": 1
        }
      ],
      "source": [
        "'''\n",
        "In this notebook, we are going to predict images using Support Vector Machines (SVM) as to whether they are cats or dogs.\n",
        "We will begin with importing the dataset and then training the SVM model later we will fine-tune the model and then test the model.\n",
        "'''"
      ]
    },
    {
      "cell_type": "code",
      "source": [
        "#import the libraries\n",
        "from zipfile import ZipFile\n",
        "import os\n",
        "from sklearn.svm import SVC\n",
        "from sklearn.preprocessing import StandardScaler\n",
        "import numpy as np\n",
        "from sklearn.model_selection import GridSearchCV\n",
        "from PIL import Image\n",
        "from sklearn.metrics import accuracy_score, classification_report"
      ],
      "metadata": {
        "id": "TtFuUWQv5-JB"
      },
      "execution_count": null,
      "outputs": []
    },
    {
      "cell_type": "code",
      "source": [
        "#create a function to unpack images\n",
        "def unzip(path_to_file, size=(64,64)):\n",
        "  #create empty arrays/list\n",
        "  images = []\n",
        "  labels = []\n",
        "\n",
        "  #use context manager to unpack\n",
        "  with ZipFile(path_to_file, 'r') as zip:\n",
        "    #loop through for filenames\n",
        "    for filename in zip.namelist():\n",
        "      #check the file extension\n",
        "      if filename.endswith('.jpg'):\n",
        "        #use context manager to open the image\n",
        "        with zip.open(filename, 'r') as image:\n",
        "          img = Image.open(image)\n",
        "          img = img.resize(size)\n",
        "          #convert image to 1 dimension\n",
        "          img_array = np.array(img).flatten()\n",
        "          images.append(img_array)\n",
        "          #define the label\n",
        "          label = 0 if 'cat' in filename else 1\n",
        "          labels.append(label)\n",
        "  #return the lists as arrays\n",
        "  return np.array(images), np.array(labels)"
      ],
      "metadata": {
        "id": "MuZstrx7QBMJ"
      },
      "execution_count": null,
      "outputs": []
    },
    {
      "cell_type": "code",
      "source": [
        "#unpack the train and test\n",
        "train_zip = '/content/drive/MyDrive/train.zip'\n",
        "test_zip = '/content/drive/MyDrive/test1.zip'\n",
        "\n",
        "#split the data and unpack\n",
        "train_X, train_y = unzip(train_zip)\n",
        "test_X, test_y = unzip(test_zip)"
      ],
      "metadata": {
        "id": "_2jxp40efqUu"
      },
      "execution_count": null,
      "outputs": []
    },
    {
      "cell_type": "code",
      "source": [
        "#Scale the images\n",
        "scaler = StandardScaler()\n",
        "train_X_scaled = scaler.fit_transform(train_X)\n",
        "test_X_scaled = scaler.transform(test_X)"
      ],
      "metadata": {
        "id": "SKliH2mtw0A1"
      },
      "execution_count": null,
      "outputs": []
    },
    {
      "cell_type": "code",
      "source": [
        "#instatiate the svm\n",
        "svm = SVC(kernel ='linear')\n",
        "\n",
        "#train the model\n",
        "svm.fit(train_X_scaled, train_y)"
      ],
      "metadata": {
        "id": "IyjP696JzRGW"
      },
      "execution_count": null,
      "outputs": []
    },
    {
      "cell_type": "code",
      "source": [
        "'''\n",
        "The code above is correct the computational resources are not available to run this code.\n",
        "The code however has been written for reproducibilty and should be able to produce expected results.\n",
        "The main aim of the project is to learn how support vectors work and how it is used in image classification\n",
        "'''"
      ],
      "metadata": {
        "id": "g_UjAYJOl0GU"
      },
      "execution_count": null,
      "outputs": []
    },
    {
      "cell_type": "code",
      "source": [
        "#predict on the model\n",
        "y_pred = svm.predict(test_X_scaled)\n",
        "\n",
        "#evaluate the model\n",
        "accuracy = accuracy_score(test_y, y_pred)\n",
        "print('Accuracy:', accuracy)\n",
        "print(classification_report(test_y, y_pred))"
      ],
      "metadata": {
        "id": "IZsKitdV6dvd"
      },
      "execution_count": null,
      "outputs": []
    },
    {
      "cell_type": "code",
      "source": [
        "'''\n",
        "The code check for the accuracy of our model. If for some reason the results are not optimal.\n",
        "Run the code below to fine-tune the model.\n",
        "'''"
      ],
      "metadata": {
        "id": "3e2LjUH2s-_5"
      },
      "execution_count": null,
      "outputs": []
    },
    {
      "cell_type": "code",
      "source": [
        "#instantiate param_grid\n",
        "param_grid = {'C': [0.1, 1, 10, 100], 'gamma': [1, 0.1, 0.01, 0.001], 'kernel'=['rbf', 'polynomial']}\n",
        "\n",
        "\n",
        "#instantiate gridsearch_cv\n",
        "grid_search = GridSearchCV(SVC(), param_grid, refit=True, verbose=3)\n",
        "\n",
        "#fit the model\n",
        "grid_search.fit(train_X_scaled, train_y)\n",
        "\n",
        "#print the best parameters\n",
        "print(grid_search.best_params_)"
      ],
      "metadata": {
        "id": "oLeLFCCPtUiq"
      },
      "execution_count": null,
      "outputs": []
    },
    {
      "cell_type": "code",
      "source": [
        "'''\n",
        "The above code produces the best parameters for the SVC which had the most optimal results.\n",
        "We then print the predicted values in submission file\n",
        "'''"
      ],
      "metadata": {
        "id": "jt3cczOau3L4"
      },
      "execution_count": null,
      "outputs": []
    },
    {
      "cell_type": "code",
      "source": [
        "#predict using gridsearch\n",
        "y_pred = grid_search.predict(test_X_scaled)\n",
        "\n",
        "#save the predictions\n",
        "np.savetxt('submission.csv', y_pred, delimiter=',')"
      ],
      "metadata": {
        "id": "eWpZzlRUvTAQ"
      },
      "execution_count": null,
      "outputs": []
    },
    {
      "cell_type": "code",
      "source": [
        "#end of notebook"
      ],
      "metadata": {
        "id": "idU3_Zqnvt6L"
      },
      "execution_count": null,
      "outputs": []
    }
  ]
}